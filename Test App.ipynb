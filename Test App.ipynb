{
 "cells": [
  {
   "cell_type": "code",
   "execution_count": 1,
   "metadata": {
    "collapsed": false
   },
   "outputs": [
    {
     "name": "stderr",
     "output_type": "stream",
     "text": [
      "Using TensorFlow backend.\n"
     ]
    }
   ],
   "source": [
    "from keras.applications.resnet50 import ResNet50\n",
    "\n",
    "# define ResNet50 model\n",
    "ResNet50_model = ResNet50(weights='imagenet')"
   ]
  },
  {
   "cell_type": "code",
   "execution_count": 34,
   "metadata": {
    "collapsed": false
   },
   "outputs": [],
   "source": [
    "import pandas as pd\n",
    "# load dog breed\n",
    "df_dog_breed = pd.read_csv('dog_name.csv')\n",
    "dog_names = df_dog_breed.values"
   ]
  },
  {
   "cell_type": "code",
   "execution_count": 19,
   "metadata": {
    "collapsed": true
   },
   "outputs": [],
   "source": [
    "from keras.preprocessing import image  \n",
    "import urllib.request\n",
    "from tqdm import tqdm\n",
    "import numpy as np\n",
    "\n",
    "def path_to_tensor(img_path, is_url=False):\n",
    "    if is_url == True:\n",
    "        urllib.request.urlretrieve(img_path, 'img_buf.jpg')\n",
    "        img_path = 'img_buf.jpg'\n",
    "    # loads RGB image as PIL.Image.Image type\n",
    "    img = image.load_img(img_path, target_size=(224, 224))\n",
    "    # convert image to 3D tensor with shape (224, 224, 3)\n",
    "    x = image.img_to_array(img)\n",
    "    \n",
    "    if is_url == True:\n",
    "        os.remove('img_buf.jpg')\n",
    "    # convert 3D tensor to 4D tensor with shape (1, 224, 224, 3)\n",
    "    return np.expand_dims(x, axis=0)\n",
    "\n",
    "\n",
    "import os\n",
    "\n",
    "from PIL import ImageFile                            \n",
    "ImageFile.LOAD_TRUNCATED_IMAGES = True   "
   ]
  },
  {
   "cell_type": "code",
   "execution_count": 38,
   "metadata": {
    "collapsed": true
   },
   "outputs": [],
   "source": [
    "from keras.applications.resnet50 import preprocess_input, decode_predictions\n",
    "\n",
    "def ResNet50_predict_labels(img_path, is_url=False):\n",
    "    # returns prediction vector for image located at img_path\n",
    "    img = preprocess_input(path_to_tensor(img_path, is_url))\n",
    "    return np.argmax(ResNet50_model.predict(img))\n",
    "\n",
    "### if a dog is detected in the image which is stored at img_path\n",
    "def dog_detector(img_path, is_url=False):\n",
    "    prediction = ResNet50_predict_labels(img_path, is_url)\n",
    "    # 151 to 269 are dogs in ImageNet, if the predicted label is in this range\n",
    "    # return True\n",
    "    return ((prediction <= 268) & (prediction >= 151)) "
   ]
  },
  {
   "cell_type": "code",
   "execution_count": 41,
   "metadata": {
    "collapsed": false
   },
   "outputs": [],
   "source": [
    "from keras.layers import Conv2D, MaxPooling2D, GlobalAveragePooling2D, GlobalMaxPooling2D\n",
    "from keras.layers import Dropout, Flatten, Dense\n",
    "from keras.models import Sequential\n",
    "\n",
    "def load_model():\n",
    "    model = Sequential()\n",
    "    model.add(Dense(1024, activation='relu', input_shape=(6144,)))\n",
    "    model.add(Dropout(0.2))\n",
    "    model.add(Dense(512, activation='relu'))\n",
    "    model.add(Dropout(0.2))\n",
    "    model.add(Dense(133, activation='softmax'))\n",
    "    model.load_weights('saved_models/weights.best.model1.hdf5')\n",
    "    return model\n",
    "\n",
    "model = load_model()\n",
    "\n",
    "\n",
    "from extract_bottleneck_features import *\n",
    "\n",
    "def model_predict_breed(model, img_path, is_url=False):\n",
    "    # extract bottleneck features\n",
    "    if dog_detector(img_path, is_url=False):\n",
    "        print('Oh, it\\'s a cute dog! Let me check out the breed ...')\n",
    "    else:\n",
    "        print('It\\s not a dog! Take it away from me!')\n",
    "        return\n",
    "        \n",
    "    keras_tensor = path_to_tensor(img_path, is_url)\n",
    "    \n",
    "    print('Let me have a look at the coat ...')\n",
    "    Resnet50_feature = extract_Resnet50(keras_tensor)\n",
    "    print('Let me measure the tail length ...')\n",
    "    InceptionV3_feature = extract_InceptionV3(keras_tensor)\n",
    "    print('where is the nose? ...')\n",
    "    Xception_feature = extract_Xception(keras_tensor)\n",
    "    \n",
    "    \n",
    "    \n",
    "    InceptionV3_flatten_model = Sequential()\n",
    "    InceptionV3_flatten_model.add(GlobalAveragePooling2D(input_shape=InceptionV3_feature.shape[1:]))\n",
    "    Xception_flatten_model = Sequential()\n",
    "    Xception_flatten_model.add(GlobalAveragePooling2D(input_shape=Xception_feature.shape[1:]))\n",
    "    Resnet50_flatten_model = Sequential()\n",
    "    Resnet50_flatten_model.add(GlobalAveragePooling2D(input_shape=Resnet50_feature.shape[1:]))\n",
    "    \n",
    "    InceptionV3_feature = InceptionV3_flatten_model.predict(InceptionV3_feature)\n",
    "    Xception_feature = Xception_flatten_model.predict(Xception_feature)\n",
    "    Resnet50_feature = Resnet50_flatten_model.predict(Resnet50_feature)\n",
    "    \n",
    "    feature = np.concatenate((InceptionV3_feature, Xception_feature, Resnet50_feature), axis=1)\n",
    "    print('OK. I get some information on this dog. Let me look into my Dog Breed Encyclopaedia ...')\n",
    "    print('It may take awhile ...\\n')\n",
    "    \n",
    "    # create prediction vactor\n",
    "    predicted_vector = model.predict(feature)\n",
    "    # return dog breed that has the maximum likelihood\n",
    "    print(('According to my encyclopaedia, it\\'s a/an {}.').format(dog_names[np.argmax(predicted_vector)][0]))\n",
    "    return"
   ]
  }
 ],
 "metadata": {
  "anaconda-cloud": {},
  "kernelspec": {
   "display_name": "Python [conda env:aind-dl]",
   "language": "python",
   "name": "conda-env-aind-dl-py"
  },
  "language_info": {
   "codemirror_mode": {
    "name": "ipython",
    "version": 3
   },
   "file_extension": ".py",
   "mimetype": "text/x-python",
   "name": "python",
   "nbconvert_exporter": "python",
   "pygments_lexer": "ipython3",
   "version": "3.5.3"
  }
 },
 "nbformat": 4,
 "nbformat_minor": 2
}
